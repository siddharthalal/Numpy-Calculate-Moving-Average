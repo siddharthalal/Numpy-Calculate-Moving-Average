{
 "cells": [
  {
   "cell_type": "code",
   "execution_count": 1,
   "metadata": {},
   "outputs": [
    {
     "name": "stdout",
     "output_type": "stream",
     "text": [
      "The input sequence is = [  3   5   7   2   8  10  11  65  72  81  99 100 150] \n",
      "\n",
      "The moving average of the sequence with the rolling window size 3 is =\n",
      " [  5.           4.66666667   5.66666667   6.66666667   9.66666667\n",
      "  28.66666667  49.33333333  72.66666667  84.          93.33333333\n",
      " 116.33333333] \n",
      "\n",
      "The moving average sequence should have 11 values.\n",
      "\n",
      "The moving average sequence has 11 values.\n"
     ]
    }
   ],
   "source": [
    "import numpy as np\n",
    "\n",
    "def moving_average(input_array, k=3) :\n",
    "    input_array_shape = input_array.shape[0]\n",
    "    \n",
    "    #Create a vector of zeroes with the shape as n-k+1\n",
    "    \n",
    "    out_array_moving_avg = np.zeros(input_array_shape - k + 1)\n",
    "    \n",
    "    # Iterate over the input array. While doing so, for every element, get the next k elements through slicing, \n",
    "    # computer their mean and add to the output array.\n",
    "    \n",
    "    for i in range(k, input_array_shape + 1):\n",
    "        out_array_moving_avg[i-k] = input_array[i-k:i].mean()\n",
    "    \n",
    "    return out_array_moving_avg   \n",
    "\n",
    "\n",
    "a = np.array([3, 5, 7, 2, 8, 10, 11, 65, 72, 81, 99, 100, 150])\n",
    "win_size = 3\n",
    "moving_average_arr = moving_average(a, win_size)\n",
    "\n",
    "print(\"The input sequence is =\", a, \"\\n\")\n",
    "print(\"The moving average of the sequence with the rolling window size\", win_size, \"is =\\n\", moving_average_arr, \"\\n\")\n",
    "print(\"The moving average sequence should have\", a.shape[0] - win_size + 1, \"values.\\n\")\n",
    "print(\"The moving average sequence has\", moving_average_arr.shape[0], \"values.\")"
   ]
  },
  {
   "cell_type": "code",
   "execution_count": null,
   "metadata": {
    "collapsed": true
   },
   "outputs": [],
   "source": []
  }
 ],
 "metadata": {
  "kernelspec": {
   "display_name": "Python 3",
   "language": "python",
   "name": "python3"
  },
  "language_info": {
   "codemirror_mode": {
    "name": "ipython",
    "version": 3
   },
   "file_extension": ".py",
   "mimetype": "text/x-python",
   "name": "python",
   "nbconvert_exporter": "python",
   "pygments_lexer": "ipython3",
   "version": "3.6.5"
  }
 },
 "nbformat": 4,
 "nbformat_minor": 2
}
